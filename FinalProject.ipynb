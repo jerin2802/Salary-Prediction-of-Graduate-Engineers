{
 "cells": [
  {
   "cell_type": "code",
   "execution_count": 74,
   "id": "bc8196a5",
   "metadata": {},
   "outputs": [],
   "source": [
    "import pandas as pd\n",
    "import os\n",
    "import numpy as np"
   ]
  },
  {
   "cell_type": "code",
   "execution_count": 75,
   "id": "3a8246d6",
   "metadata": {},
   "outputs": [
    {
     "data": {
      "text/plain": [
       "'C:\\\\Users\\\\Dcode\\\\AppData\\\\Local\\\\Programs\\\\Python\\\\Python39\\\\Scripts'"
      ]
     },
     "execution_count": 75,
     "metadata": {},
     "output_type": "execute_result"
    }
   ],
   "source": [
    "pwd"
   ]
  },
  {
   "cell_type": "code",
   "execution_count": 76,
   "id": "2ef3a358",
   "metadata": {},
   "outputs": [],
   "source": [
    "from sklearn.preprocessing import LabelEncoder\n",
    "dataset = pd.read_csv(\"SalaryPrediction.csv\")\n",
    "dataset.isnull().sum()\n",
    "handle= dataset['Salary'].median()\n",
    "handle\n",
    "dataset = dataset.dropna()\n",
    "\n",
    "dataset[['Gender', 'Degree']] = dataset[['Gender','Degree']].apply(LabelEncoder().fit_transform)\n",
    "X = dataset.iloc[:, :-1]\n",
    "y = dataset.iloc[:, 10]"
   ]
  },
  {
   "cell_type": "code",
   "execution_count": 77,
   "id": "c1d80300",
   "metadata": {},
   "outputs": [
    {
     "data": {
      "text/plain": [
       "30000.0"
      ]
     },
     "execution_count": 77,
     "metadata": {},
     "output_type": "execute_result"
    }
   ],
   "source": [
    "handle"
   ]
  },
  {
   "cell_type": "code",
   "execution_count": 78,
   "id": "f71f0834",
   "metadata": {},
   "outputs": [],
   "source": [
    "dataset.Salary=dataset.Salary.fillna(handle)"
   ]
  },
  {
   "cell_type": "code",
   "execution_count": 79,
   "id": "98671f7c",
   "metadata": {},
   "outputs": [
    {
     "data": {
      "text/html": [
       "<div>\n",
       "<style scoped>\n",
       "    .dataframe tbody tr th:only-of-type {\n",
       "        vertical-align: middle;\n",
       "    }\n",
       "\n",
       "    .dataframe tbody tr th {\n",
       "        vertical-align: top;\n",
       "    }\n",
       "\n",
       "    .dataframe thead th {\n",
       "        text-align: right;\n",
       "    }\n",
       "</style>\n",
       "<table border=\"1\" class=\"dataframe\">\n",
       "  <thead>\n",
       "    <tr style=\"text-align: right;\">\n",
       "      <th></th>\n",
       "      <th>Gender</th>\n",
       "      <th>CGPA</th>\n",
       "      <th>Degree</th>\n",
       "      <th>Graduation Year</th>\n",
       "      <th>Coding Skill</th>\n",
       "      <th>Problem-solving Skill</th>\n",
       "      <th>Software development Skill</th>\n",
       "      <th>Communication Skill</th>\n",
       "      <th>Research</th>\n",
       "      <th>Years Of Experience</th>\n",
       "      <th>Salary</th>\n",
       "    </tr>\n",
       "  </thead>\n",
       "  <tbody>\n",
       "    <tr>\n",
       "      <th>0</th>\n",
       "      <td>1</td>\n",
       "      <td>3.50</td>\n",
       "      <td>1</td>\n",
       "      <td>2018</td>\n",
       "      <td>70</td>\n",
       "      <td>60</td>\n",
       "      <td>80</td>\n",
       "      <td>70</td>\n",
       "      <td>50</td>\n",
       "      <td>3</td>\n",
       "      <td>50000</td>\n",
       "    </tr>\n",
       "    <tr>\n",
       "      <th>1</th>\n",
       "      <td>0</td>\n",
       "      <td>3.80</td>\n",
       "      <td>0</td>\n",
       "      <td>2022</td>\n",
       "      <td>50</td>\n",
       "      <td>30</td>\n",
       "      <td>10</td>\n",
       "      <td>10</td>\n",
       "      <td>10</td>\n",
       "      <td>0</td>\n",
       "      <td>20000</td>\n",
       "    </tr>\n",
       "    <tr>\n",
       "      <th>2</th>\n",
       "      <td>1</td>\n",
       "      <td>3.50</td>\n",
       "      <td>0</td>\n",
       "      <td>2022</td>\n",
       "      <td>5</td>\n",
       "      <td>5</td>\n",
       "      <td>5</td>\n",
       "      <td>62</td>\n",
       "      <td>64</td>\n",
       "      <td>0</td>\n",
       "      <td>30000</td>\n",
       "    </tr>\n",
       "    <tr>\n",
       "      <th>3</th>\n",
       "      <td>0</td>\n",
       "      <td>3.57</td>\n",
       "      <td>0</td>\n",
       "      <td>2022</td>\n",
       "      <td>65</td>\n",
       "      <td>70</td>\n",
       "      <td>65</td>\n",
       "      <td>70</td>\n",
       "      <td>75</td>\n",
       "      <td>1</td>\n",
       "      <td>20000</td>\n",
       "    </tr>\n",
       "    <tr>\n",
       "      <th>4</th>\n",
       "      <td>1</td>\n",
       "      <td>3.50</td>\n",
       "      <td>0</td>\n",
       "      <td>2022</td>\n",
       "      <td>20</td>\n",
       "      <td>30</td>\n",
       "      <td>50</td>\n",
       "      <td>80</td>\n",
       "      <td>15</td>\n",
       "      <td>1</td>\n",
       "      <td>40000</td>\n",
       "    </tr>\n",
       "    <tr>\n",
       "      <th>...</th>\n",
       "      <td>...</td>\n",
       "      <td>...</td>\n",
       "      <td>...</td>\n",
       "      <td>...</td>\n",
       "      <td>...</td>\n",
       "      <td>...</td>\n",
       "      <td>...</td>\n",
       "      <td>...</td>\n",
       "      <td>...</td>\n",
       "      <td>...</td>\n",
       "      <td>...</td>\n",
       "    </tr>\n",
       "    <tr>\n",
       "      <th>308</th>\n",
       "      <td>1</td>\n",
       "      <td>3.30</td>\n",
       "      <td>0</td>\n",
       "      <td>2022</td>\n",
       "      <td>60</td>\n",
       "      <td>65</td>\n",
       "      <td>68</td>\n",
       "      <td>95</td>\n",
       "      <td>90</td>\n",
       "      <td>1</td>\n",
       "      <td>35000</td>\n",
       "    </tr>\n",
       "    <tr>\n",
       "      <th>309</th>\n",
       "      <td>1</td>\n",
       "      <td>3.25</td>\n",
       "      <td>0</td>\n",
       "      <td>2022</td>\n",
       "      <td>50</td>\n",
       "      <td>55</td>\n",
       "      <td>45</td>\n",
       "      <td>70</td>\n",
       "      <td>40</td>\n",
       "      <td>0</td>\n",
       "      <td>25000</td>\n",
       "    </tr>\n",
       "    <tr>\n",
       "      <th>310</th>\n",
       "      <td>1</td>\n",
       "      <td>3.40</td>\n",
       "      <td>0</td>\n",
       "      <td>2022</td>\n",
       "      <td>70</td>\n",
       "      <td>60</td>\n",
       "      <td>70</td>\n",
       "      <td>100</td>\n",
       "      <td>70</td>\n",
       "      <td>0</td>\n",
       "      <td>50000</td>\n",
       "    </tr>\n",
       "    <tr>\n",
       "      <th>311</th>\n",
       "      <td>1</td>\n",
       "      <td>3.07</td>\n",
       "      <td>0</td>\n",
       "      <td>2022</td>\n",
       "      <td>50</td>\n",
       "      <td>50</td>\n",
       "      <td>50</td>\n",
       "      <td>20</td>\n",
       "      <td>20</td>\n",
       "      <td>1</td>\n",
       "      <td>50000</td>\n",
       "    </tr>\n",
       "    <tr>\n",
       "      <th>312</th>\n",
       "      <td>1</td>\n",
       "      <td>3.59</td>\n",
       "      <td>0</td>\n",
       "      <td>2019</td>\n",
       "      <td>72</td>\n",
       "      <td>78</td>\n",
       "      <td>67</td>\n",
       "      <td>81</td>\n",
       "      <td>80</td>\n",
       "      <td>3</td>\n",
       "      <td>63000</td>\n",
       "    </tr>\n",
       "  </tbody>\n",
       "</table>\n",
       "<p>313 rows × 11 columns</p>\n",
       "</div>"
      ],
      "text/plain": [
       "     Gender  CGPA  Degree  Graduation Year  Coding Skill  \\\n",
       "0         1  3.50       1             2018            70   \n",
       "1         0  3.80       0             2022            50   \n",
       "2         1  3.50       0             2022             5   \n",
       "3         0  3.57       0             2022            65   \n",
       "4         1  3.50       0             2022            20   \n",
       "..      ...   ...     ...              ...           ...   \n",
       "308       1  3.30       0             2022            60   \n",
       "309       1  3.25       0             2022            50   \n",
       "310       1  3.40       0             2022            70   \n",
       "311       1  3.07       0             2022            50   \n",
       "312       1  3.59       0             2019            72   \n",
       "\n",
       "     Problem-solving Skill  Software development Skill  Communication Skill  \\\n",
       "0                       60                          80                   70   \n",
       "1                       30                          10                   10   \n",
       "2                        5                           5                   62   \n",
       "3                       70                          65                   70   \n",
       "4                       30                          50                   80   \n",
       "..                     ...                         ...                  ...   \n",
       "308                     65                          68                   95   \n",
       "309                     55                          45                   70   \n",
       "310                     60                          70                  100   \n",
       "311                     50                          50                   20   \n",
       "312                     78                          67                   81   \n",
       "\n",
       "     Research  Years Of Experience  Salary  \n",
       "0          50                    3   50000  \n",
       "1          10                    0   20000  \n",
       "2          64                    0   30000  \n",
       "3          75                    1   20000  \n",
       "4          15                    1   40000  \n",
       "..        ...                  ...     ...  \n",
       "308        90                    1   35000  \n",
       "309        40                    0   25000  \n",
       "310        70                    0   50000  \n",
       "311        20                    1   50000  \n",
       "312        80                    3   63000  \n",
       "\n",
       "[313 rows x 11 columns]"
      ]
     },
     "execution_count": 79,
     "metadata": {},
     "output_type": "execute_result"
    }
   ],
   "source": [
    "dataset"
   ]
  },
  {
   "cell_type": "code",
   "execution_count": 170,
   "id": "5fdcb0e9",
   "metadata": {},
   "outputs": [
    {
     "data": {
      "text/plain": [
       "Gender                         2\n",
       "CGPA                          44\n",
       "Degree                         2\n",
       "Graduation Year                9\n",
       "Coding Skill                  21\n",
       "Problem-solving Skill         22\n",
       "Software development Skill    22\n",
       "Communication Skill           26\n",
       "Research                      24\n",
       "Years Of Experience            6\n",
       "Salary                        23\n",
       "dtype: int64"
      ]
     },
     "execution_count": 170,
     "metadata": {},
     "output_type": "execute_result"
    }
   ],
   "source": [
    "dataset.nunique()"
   ]
  },
  {
   "cell_type": "code",
   "execution_count": 171,
   "id": "063a2ada",
   "metadata": {},
   "outputs": [
    {
     "name": "stdout",
     "output_type": "stream",
     "text": [
      "model performance Of Multiple Linear Regression\n",
      "r2 socre is  0.1752905066878534\n",
      "Mean Absolute Error: 9250.587279295962\n",
      "Mean Squared Error: 125727471.3353709\n",
      "Root Mean Squared Error: 11212.826197501276\n"
     ]
    }
   ],
   "source": [
    "from sklearn.model_selection import train_test_split\n",
    "X_train, X_test, y_train, y_test = train_test_split(X, y, test_size = 0.2, random_state = 0)\n",
    "from sklearn.linear_model import LinearRegression\n",
    "regressor = LinearRegression()\n",
    "regressor.fit(X_train, y_train)\n",
    "\n",
    "# Predicting the Test set results\n",
    "y_pred = regressor.predict(X_test)\n",
    "\n",
    "from sklearn.metrics import r2_score\n",
    "from sklearn.metrics import mean_squared_error\n",
    "from sklearn import metrics\n",
    "\n",
    "# predicting the accuracy score\n",
    "print('model performance Of Multiple Linear Regression')\n",
    "score=r2_score(y_test,y_pred)\n",
    "print('r2 socre is ',score)\n",
    "print('Mean Absolute Error:', metrics.mean_absolute_error(y_test, y_pred))  \n",
    "print('Mean Squared Error:', metrics.mean_squared_error(y_test, y_pred))  \n",
    "print('Root Mean Squared Error:', np.sqrt(metrics.mean_squared_error(y_test, y_pred)))\n"
   ]
  },
  {
   "cell_type": "code",
   "execution_count": 179,
   "id": "cd06b6ac",
   "metadata": {},
   "outputs": [],
   "source": [
    "import matplotlib.pyplot as plt\n",
    "%matplotlib inline"
   ]
  },
  {
   "cell_type": "code",
   "execution_count": 180,
   "id": "c90a9e9a",
   "metadata": {},
   "outputs": [
    {
     "data": {
      "text/plain": [
       "30000    59\n",
       "20000    49\n",
       "50000    35\n",
       "25000    32\n",
       "40000    25\n",
       "35000    24\n",
       "27000    14\n",
       "51000    10\n",
       "45000     9\n",
       "34000     7\n",
       "63000     7\n",
       "33000     5\n",
       "10000     5\n",
       "36500     4\n",
       "41000     4\n",
       "32000     4\n",
       "56000     4\n",
       "43000     4\n",
       "60500     4\n",
       "12000     2\n",
       "55000     2\n",
       "71000     2\n",
       "60000     2\n",
       "Name: Salary, dtype: int64"
      ]
     },
     "execution_count": 180,
     "metadata": {},
     "output_type": "execute_result"
    }
   ],
   "source": [
    "dataset['Salary'].value_counts()"
   ]
  },
  {
   "cell_type": "code",
   "execution_count": 181,
   "id": "34590766",
   "metadata": {},
   "outputs": [],
   "source": [
    "x1=dataset[['Years Of Experience']]"
   ]
  },
  {
   "cell_type": "code",
   "execution_count": 182,
   "id": "b51e561c",
   "metadata": {},
   "outputs": [
    {
     "data": {
      "text/html": [
       "<div>\n",
       "<style scoped>\n",
       "    .dataframe tbody tr th:only-of-type {\n",
       "        vertical-align: middle;\n",
       "    }\n",
       "\n",
       "    .dataframe tbody tr th {\n",
       "        vertical-align: top;\n",
       "    }\n",
       "\n",
       "    .dataframe thead th {\n",
       "        text-align: right;\n",
       "    }\n",
       "</style>\n",
       "<table border=\"1\" class=\"dataframe\">\n",
       "  <thead>\n",
       "    <tr style=\"text-align: right;\">\n",
       "      <th></th>\n",
       "      <th>Years Of Experience</th>\n",
       "    </tr>\n",
       "  </thead>\n",
       "  <tbody>\n",
       "    <tr>\n",
       "      <th>0</th>\n",
       "      <td>3</td>\n",
       "    </tr>\n",
       "    <tr>\n",
       "      <th>1</th>\n",
       "      <td>0</td>\n",
       "    </tr>\n",
       "    <tr>\n",
       "      <th>2</th>\n",
       "      <td>0</td>\n",
       "    </tr>\n",
       "    <tr>\n",
       "      <th>3</th>\n",
       "      <td>1</td>\n",
       "    </tr>\n",
       "    <tr>\n",
       "      <th>4</th>\n",
       "      <td>1</td>\n",
       "    </tr>\n",
       "    <tr>\n",
       "      <th>...</th>\n",
       "      <td>...</td>\n",
       "    </tr>\n",
       "    <tr>\n",
       "      <th>308</th>\n",
       "      <td>1</td>\n",
       "    </tr>\n",
       "    <tr>\n",
       "      <th>309</th>\n",
       "      <td>0</td>\n",
       "    </tr>\n",
       "    <tr>\n",
       "      <th>310</th>\n",
       "      <td>0</td>\n",
       "    </tr>\n",
       "    <tr>\n",
       "      <th>311</th>\n",
       "      <td>1</td>\n",
       "    </tr>\n",
       "    <tr>\n",
       "      <th>312</th>\n",
       "      <td>3</td>\n",
       "    </tr>\n",
       "  </tbody>\n",
       "</table>\n",
       "<p>313 rows × 1 columns</p>\n",
       "</div>"
      ],
      "text/plain": [
       "     Years Of Experience\n",
       "0                      3\n",
       "1                      0\n",
       "2                      0\n",
       "3                      1\n",
       "4                      1\n",
       "..                   ...\n",
       "308                    1\n",
       "309                    0\n",
       "310                    0\n",
       "311                    1\n",
       "312                    3\n",
       "\n",
       "[313 rows x 1 columns]"
      ]
     },
     "execution_count": 182,
     "metadata": {},
     "output_type": "execute_result"
    }
   ],
   "source": [
    "x1"
   ]
  },
  {
   "cell_type": "code",
   "execution_count": 183,
   "id": "aa1f8d36",
   "metadata": {},
   "outputs": [],
   "source": [
    "y=dataset['Salary']\n",
    "#y=y.astype('int')"
   ]
  },
  {
   "cell_type": "code",
   "execution_count": 184,
   "id": "9ca9c6a4",
   "metadata": {},
   "outputs": [
    {
     "data": {
      "text/plain": [
       "0      50000\n",
       "1      20000\n",
       "2      30000\n",
       "3      20000\n",
       "4      40000\n",
       "       ...  \n",
       "308    35000\n",
       "309    25000\n",
       "310    50000\n",
       "311    50000\n",
       "312    63000\n",
       "Name: Salary, Length: 313, dtype: int64"
      ]
     },
     "execution_count": 184,
     "metadata": {},
     "output_type": "execute_result"
    }
   ],
   "source": [
    "y"
   ]
  },
  {
   "cell_type": "code",
   "execution_count": 185,
   "id": "4aaca43f",
   "metadata": {},
   "outputs": [],
   "source": [
    "#X_train, X_test, ytrain, ytest = train_test_split(x1, y, test_size = 0.3, random_state = 1)\n",
    "x_train, X_test, y_train, y_test = train_test_split(x1, y, test_size = 0.5, random_state = 1)"
   ]
  },
  {
   "cell_type": "code",
   "execution_count": 186,
   "id": "17598bcb",
   "metadata": {},
   "outputs": [
    {
     "data": {
      "text/html": [
       "<div>\n",
       "<style scoped>\n",
       "    .dataframe tbody tr th:only-of-type {\n",
       "        vertical-align: middle;\n",
       "    }\n",
       "\n",
       "    .dataframe tbody tr th {\n",
       "        vertical-align: top;\n",
       "    }\n",
       "\n",
       "    .dataframe thead th {\n",
       "        text-align: right;\n",
       "    }\n",
       "</style>\n",
       "<table border=\"1\" class=\"dataframe\">\n",
       "  <thead>\n",
       "    <tr style=\"text-align: right;\">\n",
       "      <th></th>\n",
       "      <th>Years Of Experience</th>\n",
       "    </tr>\n",
       "  </thead>\n",
       "  <tbody>\n",
       "    <tr>\n",
       "      <th>80</th>\n",
       "      <td>1</td>\n",
       "    </tr>\n",
       "    <tr>\n",
       "      <th>268</th>\n",
       "      <td>1</td>\n",
       "    </tr>\n",
       "    <tr>\n",
       "      <th>310</th>\n",
       "      <td>0</td>\n",
       "    </tr>\n",
       "    <tr>\n",
       "      <th>187</th>\n",
       "      <td>0</td>\n",
       "    </tr>\n",
       "    <tr>\n",
       "      <th>105</th>\n",
       "      <td>0</td>\n",
       "    </tr>\n",
       "    <tr>\n",
       "      <th>...</th>\n",
       "      <td>...</td>\n",
       "    </tr>\n",
       "    <tr>\n",
       "      <th>228</th>\n",
       "      <td>0</td>\n",
       "    </tr>\n",
       "    <tr>\n",
       "      <th>40</th>\n",
       "      <td>2</td>\n",
       "    </tr>\n",
       "    <tr>\n",
       "      <th>21</th>\n",
       "      <td>0</td>\n",
       "    </tr>\n",
       "    <tr>\n",
       "      <th>101</th>\n",
       "      <td>2</td>\n",
       "    </tr>\n",
       "    <tr>\n",
       "      <th>69</th>\n",
       "      <td>3</td>\n",
       "    </tr>\n",
       "  </tbody>\n",
       "</table>\n",
       "<p>157 rows × 1 columns</p>\n",
       "</div>"
      ],
      "text/plain": [
       "     Years Of Experience\n",
       "80                     1\n",
       "268                    1\n",
       "310                    0\n",
       "187                    0\n",
       "105                    0\n",
       "..                   ...\n",
       "228                    0\n",
       "40                     2\n",
       "21                     0\n",
       "101                    2\n",
       "69                     3\n",
       "\n",
       "[157 rows x 1 columns]"
      ]
     },
     "execution_count": 186,
     "metadata": {},
     "output_type": "execute_result"
    }
   ],
   "source": [
    "X_test"
   ]
  },
  {
   "cell_type": "code",
   "execution_count": 187,
   "id": "1b2e6152",
   "metadata": {},
   "outputs": [
    {
     "data": {
      "text/plain": [
       "80     30000\n",
       "268    20000\n",
       "310    50000\n",
       "187    27000\n",
       "105    30000\n",
       "       ...  \n",
       "228    30000\n",
       "40     50000\n",
       "21     30000\n",
       "101    55000\n",
       "69     45000\n",
       "Name: Salary, Length: 157, dtype: int64"
      ]
     },
     "execution_count": 187,
     "metadata": {},
     "output_type": "execute_result"
    }
   ],
   "source": [
    "y_test"
   ]
  },
  {
   "cell_type": "code",
   "execution_count": 188,
   "id": "e5def3b6",
   "metadata": {},
   "outputs": [],
   "source": [
    "from sklearn.linear_model import LogisticRegression"
   ]
  },
  {
   "cell_type": "code",
   "execution_count": 189,
   "id": "155e0935",
   "metadata": {},
   "outputs": [],
   "source": [
    "model2 = LogisticRegression()"
   ]
  },
  {
   "cell_type": "code",
   "execution_count": 190,
   "id": "01e0e81c",
   "metadata": {
    "scrolled": true
   },
   "outputs": [
    {
     "data": {
      "text/plain": [
       "LogisticRegression()"
      ]
     },
     "execution_count": 190,
     "metadata": {},
     "output_type": "execute_result"
    }
   ],
   "source": [
    "model2.fit(x_train,y_train)"
   ]
  },
  {
   "cell_type": "code",
   "execution_count": 191,
   "id": "c8b5b18c",
   "metadata": {},
   "outputs": [],
   "source": [
    "y5=model2.predict(X_test)"
   ]
  },
  {
   "cell_type": "code",
   "execution_count": 192,
   "id": "e7e25095",
   "metadata": {},
   "outputs": [
    {
     "name": "stdout",
     "output_type": "stream",
     "text": [
      "r2 socre is  0.09554140127388536\n"
     ]
    }
   ],
   "source": [
    "y0=model2.score(X_test,y_test)\n",
    "print('r2 socre is ',y0)"
   ]
  },
  {
   "cell_type": "code",
   "execution_count": 193,
   "id": "bff81bef",
   "metadata": {},
   "outputs": [
    {
     "name": "stdout",
     "output_type": "stream",
     "text": [
      "Mean Absolute Error: 11506.369426751593\n",
      "Mean Squared Error: 196800955.41401273\n",
      "Root Mean Squared Error: 14028.576385863704\n"
     ]
    }
   ],
   "source": [
    "print('Mean Absolute Error:', metrics.mean_absolute_error(y_test, y5))  \n",
    "print('Mean Squared Error:', metrics.mean_squared_error(y_test, y5))  \n",
    "print('Root Mean Squared Error:', np.sqrt(metrics.mean_squared_error(y_test, y5)))\n"
   ]
  },
  {
   "cell_type": "code",
   "execution_count": 31,
   "id": "1785cc39",
   "metadata": {},
   "outputs": [
    {
     "data": {
      "text/plain": [
       "array([[0.00647945, 0.1777028 , 0.16074838, ..., 0.01225277, 0.00337433,\n",
       "        0.0100552 ],\n",
       "       [0.00647945, 0.1777028 , 0.16074838, ..., 0.01225277, 0.00337433,\n",
       "        0.0100552 ],\n",
       "       [0.00259245, 0.24239946, 0.15445891, ..., 0.0045552 , 0.00055375,\n",
       "        0.00230144],\n",
       "       ...,\n",
       "       [0.00259245, 0.24239946, 0.15445891, ..., 0.0045552 , 0.00055375,\n",
       "        0.00230144],\n",
       "       [0.01165756, 0.09377749, 0.12042646, ..., 0.02372478, 0.01480133,\n",
       "        0.03162446],\n",
       "       [0.01309444, 0.03089672, 0.05632571, ..., 0.02868003, 0.04053429,\n",
       "        0.06209617]])"
      ]
     },
     "execution_count": 31,
     "metadata": {},
     "output_type": "execute_result"
    }
   ],
   "source": [
    "model2.predict_proba(X_test)"
   ]
  },
  {
   "cell_type": "code",
   "execution_count": 97,
   "id": "4f8a24a8",
   "metadata": {},
   "outputs": [
    {
     "name": "stdout",
     "output_type": "stream",
     "text": [
      "Shape of X =  (313, 10)\n",
      "Shape of Y =  (313,)\n"
     ]
    }
   ],
   "source": [
    "X = dataset.drop('Salary' , axis=1)\n",
    "Y = dataset['Salary']\n",
    "\n",
    "print('Shape of X = ', X.shape)\n",
    "print('Shape of Y = ', Y.shape)"
   ]
  },
  {
   "cell_type": "code",
   "execution_count": 98,
   "id": "fc5652ad",
   "metadata": {},
   "outputs": [
    {
     "name": "stdout",
     "output_type": "stream",
     "text": [
      "Shape of X_train =  (187, 10)\n",
      "Shape of y_train =  (187,)\n",
      "Shape of X_test =  (126, 10)\n",
      "Shape of y_test =  (126,)\n"
     ]
    }
   ],
   "source": [
    "X_train, X_test, y_train, y_test = train_test_split(X, y, test_size=0.4, random_state=51)\n",
    " \n",
    "print('Shape of X_train = ', X_train.shape)\n",
    "print('Shape of y_train = ', y_train.shape)\n",
    "print('Shape of X_test = ', X_test.shape)\n",
    "print('Shape of y_test = ', y_test.shape)"
   ]
  },
  {
   "cell_type": "code",
   "execution_count": 99,
   "id": "e6352dae",
   "metadata": {},
   "outputs": [],
   "source": [
    "from sklearn.preprocessing import StandardScaler\n",
    "sc = StandardScaler()\n",
    "sc.fit(X_train)\n",
    "X_train = sc.transform(X_train)\n",
    "X_test = sc.transform(X_test)"
   ]
  },
  {
   "cell_type": "code",
   "execution_count": 100,
   "id": "3fbf37ad",
   "metadata": {},
   "outputs": [],
   "source": [
    "from sklearn.preprocessing import PolynomialFeatures"
   ]
  },
  {
   "cell_type": "code",
   "execution_count": 101,
   "id": "eefb9d26",
   "metadata": {},
   "outputs": [],
   "source": [
    "poly_reg = PolynomialFeatures(degree=2)\n",
    "poly_reg.fit(X_train)\n",
    "X_train_poly = poly_reg.transform(X_train)\n",
    "X_test_poly = poly_reg.transform(X_test) "
   ]
  },
  {
   "cell_type": "code",
   "execution_count": 102,
   "id": "0ad5b2ad",
   "metadata": {},
   "outputs": [
    {
     "data": {
      "text/plain": [
       "((187, 66), (126, 66))"
      ]
     },
     "execution_count": 102,
     "metadata": {},
     "output_type": "execute_result"
    }
   ],
   "source": [
    "X_train_poly.shape, X_test_poly.shape"
   ]
  },
  {
   "cell_type": "code",
   "execution_count": 103,
   "id": "f09c86a1",
   "metadata": {},
   "outputs": [],
   "source": [
    "lr = LinearRegression()"
   ]
  },
  {
   "cell_type": "code",
   "execution_count": 104,
   "id": "1443695f",
   "metadata": {},
   "outputs": [
    {
     "data": {
      "text/plain": [
       "LinearRegression()"
      ]
     },
     "execution_count": 104,
     "metadata": {},
     "output_type": "execute_result"
    }
   ],
   "source": [
    "lr.fit(X_train_poly, y_train)"
   ]
  },
  {
   "cell_type": "code",
   "execution_count": 105,
   "id": "a5a0d40d",
   "metadata": {},
   "outputs": [],
   "source": [
    "#lr.score(X_test_poly, y_test,)"
   ]
  },
  {
   "cell_type": "code",
   "execution_count": 106,
   "id": "cbf1fde3",
   "metadata": {},
   "outputs": [
    {
     "data": {
      "text/plain": [
       "array([56960.])"
      ]
     },
     "execution_count": 106,
     "metadata": {},
     "output_type": "execute_result"
    }
   ],
   "source": [
    "lr.predict([X_test_poly[0,:]])"
   ]
  },
  {
   "cell_type": "code",
   "execution_count": 107,
   "id": "0fd31fd9",
   "metadata": {},
   "outputs": [
    {
     "data": {
      "text/plain": [
       "array([ 5.69600000e+04,  3.36240000e+04,  2.71580000e+04,  2.55700000e+04,\n",
       "        6.27240000e+04,  3.04000000e+04,  5.03600000e+04,  2.49080000e+04,\n",
       "        3.49940000e+04,  2.49080000e+04,  1.00820000e+04,  2.08440000e+04,\n",
       "        4.98240000e+04,  3.87620000e+04,  4.02340000e+04,  3.49940000e+04,\n",
       "        2.93800000e+04,  2.94160000e+04,  3.12280000e+04, -1.37689448e+14,\n",
       "        3.16780000e+04,  2.71580000e+04,  5.01000000e+04,  5.12860000e+04,\n",
       "        1.00820000e+04,  5.01000000e+04,  3.04000000e+04,  4.91720000e+04,\n",
       "        3.36240000e+04,  3.74520000e+04,  3.48880000e+04,  2.95860000e+04,\n",
       "        2.01720000e+04,  3.04000000e+04,  2.20080000e+04,  4.54140000e+04,\n",
       "        4.91720000e+04,  1.92040000e+04,  1.92040000e+04,  3.22620000e+04,\n",
       "        3.06660000e+04,  5.09640000e+04,  2.61580000e+04,  4.58900000e+04,\n",
       "        3.97220000e+04, -1.37689448e+14,  1.99024000e+05,  2.49080000e+04,\n",
       "        4.91720000e+04,  3.29900000e+04, -1.37689448e+14,  4.17420000e+04,\n",
       "        2.95860000e+04,  6.27240000e+04,  3.06660000e+04, -1.37689448e+14,\n",
       "        2.99840000e+04,  3.49400000e+04,  5.89660000e+04,  2.20080000e+04,\n",
       "        4.00500000e+04,  4.02340000e+04,  5.09640000e+04,  1.87580000e+04,\n",
       "        4.02340000e+04,  1.92040000e+04,  2.02500000e+04,  2.20080000e+04,\n",
       "        1.00820000e+04,  2.90720000e+04,  4.17420000e+04,  2.55280000e+04,\n",
       "        4.98240000e+04,  3.49400000e+04,  2.14540000e+04,  2.08440000e+04,\n",
       "        3.81740000e+04,  2.27980000e+04,  3.87620000e+04,  4.54140000e+04,\n",
       "        3.40420000e+04,  2.01720000e+04,  2.49080000e+04,  2.02500000e+04,\n",
       "        3.29900000e+04, -9.28540000e+04,  2.20080000e+04,  3.51340000e+04,\n",
       "        2.55700000e+04,  2.95860000e+04,  2.13640000e+04,  1.87580000e+04,\n",
       "        2.95860000e+04,  4.91720000e+04,  3.12280000e+04,  5.89660000e+04,\n",
       "        3.97220000e+04,  5.58040000e+04,  5.12860000e+04,  5.02380000e+04,\n",
       "        3.36240000e+04, -2.72789728e+16,  6.05060000e+04,  4.17420000e+04,\n",
       "        4.98240000e+04,  5.03600000e+04,  2.55700000e+04,  3.48880000e+04,\n",
       "        4.54140000e+04, -9.28540000e+04,  2.61580000e+04,  5.69600000e+04,\n",
       "        3.94820000e+04, -2.72789728e+16,  5.09640000e+04,  2.71580000e+04,\n",
       "        2.13640000e+04,  5.12860000e+04,  2.49080000e+04,  1.99600000e+04,\n",
       "        1.99024000e+05,  3.51420000e+04,  3.40420000e+04,  2.55000000e+04,\n",
       "        3.06660000e+04,  2.43180000e+04])"
      ]
     },
     "execution_count": 107,
     "metadata": {},
     "output_type": "execute_result"
    }
   ],
   "source": [
    "y_pred = lr.predict(X_test_poly)\n",
    "y_pred"
   ]
  },
  {
   "cell_type": "code",
   "execution_count": 108,
   "id": "d09d272e",
   "metadata": {},
   "outputs": [
    {
     "data": {
      "text/plain": [
       "23     56000\n",
       "160    30000\n",
       "90     27000\n",
       "115    25000\n",
       "118    63000\n",
       "       ...  \n",
       "26     35000\n",
       "211    35000\n",
       "99     27000\n",
       "298    30000\n",
       "7      30000\n",
       "Name: Salary, Length: 126, dtype: int64"
      ]
     },
     "execution_count": 108,
     "metadata": {},
     "output_type": "execute_result"
    }
   ],
   "source": [
    "y_test"
   ]
  },
  {
   "cell_type": "code",
   "execution_count": 109,
   "id": "b304cc60",
   "metadata": {},
   "outputs": [
    {
     "name": "stdout",
     "output_type": "stream",
     "text": [
      "Mean Absolute Error: 437370661968730.25\n"
     ]
    }
   ],
   "source": [
    "#score=absolute(r2_score(y_test, y_pred))\n",
    "#mae = metrics.mean_absolute_error(y_test, y_pred)\n",
    "print('Mean Absolute Error:', metrics.mean_absolute_error(y_test, y_pred))  \n",
    "mse = mean_squared_error(y_test, y_pred)\n",
    "rmse = np.sqrt(mse)"
   ]
  },
  {
   "cell_type": "code",
   "execution_count": 110,
   "id": "29b26ef7",
   "metadata": {},
   "outputs": [
    {
     "name": "stdout",
     "output_type": "stream",
     "text": [
      "R2-Score for Polynomial =  0.1752905066878534\n",
      "MSE for Polynomial =  1.1812385304816415e+31\n",
      "RMSE for Polynomial =  3436915085482388.5\n"
     ]
    }
   ],
   "source": [
    "#print('MAE for Polynomial = ',mae)\n",
    "print('R2-Score for Polynomial = ',score)\n",
    "print('MSE for Polynomial = ',mse)\n",
    "print('RMSE for Polynomial = ',rmse)"
   ]
  },
  {
   "cell_type": "code",
   "execution_count": 111,
   "id": "eff9db7f",
   "metadata": {},
   "outputs": [],
   "source": [
    "from sklearn.model_selection import train_test_split\n",
    "X_train, X_test, y_train, y_test = train_test_split(X, y, random_state=1)"
   ]
  },
  {
   "cell_type": "code",
   "execution_count": 112,
   "id": "d626b8e9",
   "metadata": {},
   "outputs": [
    {
     "data": {
      "text/plain": [
       "(234, 10)"
      ]
     },
     "execution_count": 112,
     "metadata": {},
     "output_type": "execute_result"
    }
   ],
   "source": [
    "X_train.shape"
   ]
  },
  {
   "cell_type": "code",
   "execution_count": 113,
   "id": "3e4e2cfe",
   "metadata": {},
   "outputs": [
    {
     "data": {
      "text/plain": [
       "(234,)"
      ]
     },
     "execution_count": 113,
     "metadata": {},
     "output_type": "execute_result"
    }
   ],
   "source": [
    "y_train.shape"
   ]
  },
  {
   "cell_type": "code",
   "execution_count": 114,
   "id": "00728dd1",
   "metadata": {},
   "outputs": [],
   "source": [
    "from sklearn.linear_model import Lasso\n",
    "lasso = Lasso(alpha=1.0)"
   ]
  },
  {
   "cell_type": "code",
   "execution_count": 115,
   "id": "80d5193c",
   "metadata": {},
   "outputs": [
    {
     "data": {
      "text/plain": [
       "Lasso()"
      ]
     },
     "execution_count": 115,
     "metadata": {},
     "output_type": "execute_result"
    }
   ],
   "source": [
    "lasso.fit(X_train, y_train)"
   ]
  },
  {
   "cell_type": "code",
   "execution_count": 116,
   "id": "598b611c",
   "metadata": {},
   "outputs": [],
   "source": [
    "y_pred = lasso.predict(X_test)"
   ]
  },
  {
   "cell_type": "code",
   "execution_count": 117,
   "id": "a734d21a",
   "metadata": {},
   "outputs": [
    {
     "data": {
      "text/plain": [
       "array([23333.81694392, 28757.66491261, 31696.90670189, 31988.00820856,\n",
       "       27681.36729166, 40312.73436353, 43518.60930562, 28967.44000342,\n",
       "       35643.58795283, 29743.1626435 , 46896.29238913, 41217.27710605,\n",
       "       33021.8660148 , 35614.67649573, 34281.06971177, 21333.02498073,\n",
       "       29452.14482304, 39557.28249519, 27818.79946802, 31962.99435722,\n",
       "       35643.58795283, 25890.21663425, 28743.4164186 , 35643.58795283,\n",
       "       34982.54843863, 44294.97497376, 26745.37049491, 46896.29238913,\n",
       "       28743.4164186 , 41217.27710605, 40188.40714709, 31988.00820856,\n",
       "       45533.41899352, 31988.00820856, 49735.75536119, 28967.44000342,\n",
       "       30747.24574967, 31696.90670189, 36022.91020887, 35643.58795283,\n",
       "       43518.60930562, 43950.71255863, 39477.84490755, 49735.75536119,\n",
       "       23336.6546887 , 26618.15167938, 27341.36352888, 31962.99435722,\n",
       "       24019.20439648, 27341.36352888, 34276.48842573, 35614.67649573,\n",
       "       40793.72468817, 26837.81727101, 24019.20439648, 36445.62012977,\n",
       "       39477.84490755, 32882.25543917, 29253.10470331, 27818.79946802,\n",
       "       44294.97497376, 39723.2848705 , 34532.85456407, 46438.56183479,\n",
       "       45533.41899352, 25890.21663425, 39723.2848705 , 55915.43153202,\n",
       "       31031.35429995, 26618.15167938, 46438.56183479, 36360.67781434,\n",
       "       56496.91567101, 23336.6546887 , 36022.91020887, 46896.29238913,\n",
       "       41217.27710605, 31962.99435722, 46843.71539616])"
      ]
     },
     "execution_count": 117,
     "metadata": {},
     "output_type": "execute_result"
    }
   ],
   "source": [
    "y_pred"
   ]
  },
  {
   "cell_type": "code",
   "execution_count": 118,
   "id": "253a26b1",
   "metadata": {},
   "outputs": [
    {
     "name": "stdout",
     "output_type": "stream",
     "text": [
      "Slope: -183.07 \n"
     ]
    }
   ],
   "source": [
    "print(\"Slope: %.2f \" % lasso.coef_[0])"
   ]
  },
  {
   "cell_type": "code",
   "execution_count": 119,
   "id": "2d51cf23",
   "metadata": {},
   "outputs": [
    {
     "name": "stdout",
     "output_type": "stream",
     "text": [
      "Intercept: -810778.44 \n"
     ]
    }
   ],
   "source": [
    "print(\"Intercept: %.2f \" % lasso.intercept_)"
   ]
  },
  {
   "cell_type": "code",
   "execution_count": 120,
   "id": "82156dde",
   "metadata": {},
   "outputs": [],
   "source": [
    "from sklearn.metrics import mean_squared_error\n",
    "mae = metrics.mean_absolute_error(y_test, y_pred)\n",
    "mse= mean_squared_error(y_test, y_pred)\n",
    "rmse= np.sqrt(mean_squared_error(y_test, y_pred))"
   ]
  },
  {
   "cell_type": "code",
   "execution_count": 121,
   "id": "de140373",
   "metadata": {},
   "outputs": [
    {
     "name": "stdout",
     "output_type": "stream",
     "text": [
      "MAE for Lasso =  6899.365021449132\n",
      "MSE for Lasso = 80438542.17290261\n",
      "RMSE for Lasso = 8968.753657722047\n",
      "R2 for Lasso = 0.49 \n"
     ]
    }
   ],
   "source": [
    "print('MAE for Lasso = ',mae)\n",
    "print(\"MSE for Lasso =\", mse)\n",
    "print(\"RMSE for Lasso =\", rmse)\n",
    "print(\"R2 for Lasso = %.2f \" % lasso.score(X_test, y_test))"
   ]
  },
  {
   "cell_type": "code",
   "execution_count": 122,
   "id": "be63dd13",
   "metadata": {},
   "outputs": [],
   "source": [
    "from sklearn.model_selection import train_test_split\n",
    "X_train, X_test, Y_train, Y_test = train_test_split(X,Y,random_state=100)"
   ]
  },
  {
   "cell_type": "code",
   "execution_count": 123,
   "id": "14b87329",
   "metadata": {},
   "outputs": [
    {
     "data": {
      "text/plain": [
       "(234, 10)"
      ]
     },
     "execution_count": 123,
     "metadata": {},
     "output_type": "execute_result"
    }
   ],
   "source": [
    "X_train.shape"
   ]
  },
  {
   "cell_type": "code",
   "execution_count": 124,
   "id": "db962b43",
   "metadata": {},
   "outputs": [
    {
     "data": {
      "text/plain": [
       "(234,)"
      ]
     },
     "execution_count": 124,
     "metadata": {},
     "output_type": "execute_result"
    }
   ],
   "source": [
    "Y_train.shape"
   ]
  },
  {
   "cell_type": "code",
   "execution_count": 125,
   "id": "dfeab4d0",
   "metadata": {},
   "outputs": [],
   "source": [
    "from sklearn.ensemble import RandomForestRegressor"
   ]
  },
  {
   "cell_type": "code",
   "execution_count": 126,
   "id": "76b8feb2",
   "metadata": {},
   "outputs": [],
   "source": [
    "rf = RandomForestRegressor()"
   ]
  },
  {
   "cell_type": "code",
   "execution_count": 127,
   "id": "369cd2b5",
   "metadata": {},
   "outputs": [
    {
     "data": {
      "text/plain": [
       "RandomForestRegressor()"
      ]
     },
     "execution_count": 127,
     "metadata": {},
     "output_type": "execute_result"
    }
   ],
   "source": [
    "rf.fit(X_train, Y_train)"
   ]
  },
  {
   "cell_type": "code",
   "execution_count": 133,
   "id": "d1a7ef54",
   "metadata": {},
   "outputs": [],
   "source": [
    "Y_pred = rf.predict(X_test)"
   ]
  },
  {
   "cell_type": "code",
   "execution_count": 134,
   "id": "098a95cd",
   "metadata": {},
   "outputs": [
    {
     "data": {
      "text/plain": [
       "array([49150.        , 30000.        , 28860.        , 39650.        ,\n",
       "       25500.        , 28680.        , 23011.42316017, 20070.        ,\n",
       "       30000.        , 20383.94300144, 37940.        , 25500.        ,\n",
       "       35000.        , 65790.        , 51000.        , 20520.        ,\n",
       "       49205.        , 29165.        , 29165.        , 23011.42316017,\n",
       "       40575.        , 25100.        , 49205.        , 26030.        ,\n",
       "       25000.        , 30000.        , 36375.        , 49150.        ,\n",
       "       30080.        , 32060.        , 20383.94300144, 49150.        ,\n",
       "       30080.        , 30000.        , 40990.        , 63000.        ,\n",
       "       36060.        , 49150.        , 63000.        , 36375.        ,\n",
       "       49700.        , 27000.        , 30000.        , 40990.        ,\n",
       "       49700.        , 50000.        , 37940.        , 21455.        ,\n",
       "       29165.        , 45000.        , 25000.        , 45000.        ,\n",
       "       25100.        , 25000.        , 50000.        , 51000.        ,\n",
       "       36625.        , 39500.        , 34000.        , 37940.        ,\n",
       "       20383.94300144, 30000.        , 36375.        , 56175.        ,\n",
       "       30400.        , 26525.        , 39800.        , 36375.        ,\n",
       "       27420.        , 20720.        , 30080.        , 39800.        ,\n",
       "       43090.        , 30000.        , 29165.        , 34010.        ,\n",
       "       29165.        , 35855.        , 30080.        ])"
      ]
     },
     "execution_count": 134,
     "metadata": {},
     "output_type": "execute_result"
    }
   ],
   "source": [
    "Y_pred"
   ]
  },
  {
   "cell_type": "code",
   "execution_count": 138,
   "id": "a24fc4e9",
   "metadata": {},
   "outputs": [],
   "source": [
    "#from sklearn.metrics import mean_squared_error\n",
    "#mean_squared_error(Y_test, Y_pred)"
   ]
  },
  {
   "cell_type": "code",
   "execution_count": 139,
   "id": "5a7e4de7",
   "metadata": {},
   "outputs": [],
   "source": [
    "#np.sqrt(mean_squared_error(Y_test, Y_pred))"
   ]
  },
  {
   "cell_type": "code",
   "execution_count": 140,
   "id": "07ae5cbc",
   "metadata": {},
   "outputs": [
    {
     "name": "stdout",
     "output_type": "stream",
     "text": [
      "r2 socre is  0.9400320529505105\n",
      "Mean Absolute Error: 1382.708641569401\n",
      "Mean Squared Error: 8498935.91621345\n",
      "Root Mean Squared Error: 2915.2934528471483\n"
     ]
    }
   ],
   "source": [
    "score=r2_score(Y_test,Y_pred)\n",
    "print('r2 socre is ',score)\n",
    "print('Mean Absolute Error:', metrics.mean_absolute_error(Y_test, Y_pred))  \n",
    "print('Mean Squared Error:', metrics.mean_squared_error(Y_test, Y_pred))  \n",
    "print('Root Mean Squared Error:', np.sqrt(metrics.mean_squared_error(Y_test, Y_pred)))"
   ]
  },
  {
   "cell_type": "code",
   "execution_count": 161,
   "id": "b7d501b7",
   "metadata": {},
   "outputs": [],
   "source": [
    "from sklearn.model_selection import train_test_split\n",
    "X_train,X_test, y_train, y_test = train_test_split(X,y, random_state=99)"
   ]
  },
  {
   "cell_type": "code",
   "execution_count": 162,
   "id": "d0b3c9e8",
   "metadata": {},
   "outputs": [],
   "source": [
    "from sklearn.svm import SVR"
   ]
  },
  {
   "cell_type": "code",
   "execution_count": 163,
   "id": "939be123",
   "metadata": {},
   "outputs": [],
   "source": [
    "sc1 = StandardScaler()\n",
    "sc1.fit(X_train)\n",
    "X_train = sc.transform(X_train)\n",
    "X_test = sc.transform(X_test)"
   ]
  },
  {
   "cell_type": "code",
   "execution_count": 164,
   "id": "857b5e0b",
   "metadata": {},
   "outputs": [
    {
     "data": {
      "text/plain": [
       "-0.14517115539525327"
      ]
     },
     "execution_count": 164,
     "metadata": {},
     "output_type": "execute_result"
    }
   ],
   "source": [
    "svr_rbf = SVR(kernel = 'rbf')\n",
    "svr_rbf.fit(X_train, y_train)\n",
    "Y_pred1 = svr_rbf.predict(X_test)\n",
    "svr_rbf.score(X_test, y_test)"
   ]
  },
  {
   "cell_type": "code",
   "execution_count": 167,
   "id": "d9fbd3b3",
   "metadata": {},
   "outputs": [
    {
     "data": {
      "text/plain": [
       "array([-1.19522861,  0.30785088, -0.23769134,  0.47220358,  0.35143658,\n",
       "        0.13092797,  0.20712621, -0.30220255, -0.69549687, -0.8653171 ])"
      ]
     },
     "execution_count": 167,
     "metadata": {},
     "output_type": "execute_result"
    }
   ],
   "source": [
    "X_test[0]"
   ]
  },
  {
   "cell_type": "code",
   "execution_count": 194,
   "id": "ad355d68",
   "metadata": {},
   "outputs": [
    {
     "name": "stdout",
     "output_type": "stream",
     "text": [
      "model performance Of SVR\n",
      "r2 socre is  -0.17525054101164161\n",
      "Mean Absolute Error: 9702.290202196218\n",
      "Mean Squared Error: 166561963.93233305\n",
      "Root Mean Squared Error: 12905.888730821021\n"
     ]
    }
   ],
   "source": [
    "print('model performance Of SVR')\n",
    "score2=r2_score(Y_test,Y_pred1)\n",
    "print('r2 socre is ',score2)\n",
    "print('Mean Absolute Error:', metrics.mean_absolute_error(Y_test, Y_pred1))  \n",
    "print('Mean Squared Error:', metrics.mean_squared_error(Y_test, Y_pred1))  \n",
    "print('Root Mean Squared Error:', np.sqrt(metrics.mean_squared_error(Y_test, Y_pred1)))"
   ]
  },
  {
   "cell_type": "code",
   "execution_count": null,
   "id": "be7a66b0",
   "metadata": {},
   "outputs": [],
   "source": []
  }
 ],
 "metadata": {
  "celltoolbar": "Raw Cell Format",
  "kernelspec": {
   "display_name": "Python 3 (ipykernel)",
   "language": "python",
   "name": "python3"
  },
  "language_info": {
   "codemirror_mode": {
    "name": "ipython",
    "version": 3
   },
   "file_extension": ".py",
   "mimetype": "text/x-python",
   "name": "python",
   "nbconvert_exporter": "python",
   "pygments_lexer": "ipython3",
   "version": "3.9.0"
  }
 },
 "nbformat": 4,
 "nbformat_minor": 5
}
